{
  "nbformat": 4,
  "nbformat_minor": 0,
  "metadata": {
    "colab": {
      "private_outputs": true,
      "provenance": []
    },
    "kernelspec": {
      "name": "python3",
      "display_name": "Python 3"
    },
    "language_info": {
      "name": "python"
    }
  },
  "cells": [
    {
      "cell_type": "code",
      "execution_count": null,
      "metadata": {
        "id": "OOopN4y3_vwf"
      },
      "outputs": [],
      "source": [
        "!pip install torch torchvision torchaudio\n",
        "!pip install torch-geometric\n",
        "!pip install rdkit-pypi\n",
        "# Imports\n",
        "import torch\n",
        "import torch.nn.functional as F\n",
        "from torch_geometric.data import DataLoader\n",
        "# from torch_geometric.datasets import Tox21\n",
        "from torch_geometric.datasets import ZINC\n",
        "from torch_geometric.nn import GINConv, GCNConv, global_add_pool\n",
        "from torch_geometric.utils import train_test_split_edges\n",
        "from torch_geometric.nn.models import VGAE\n",
        "from rdkit import Chem\n",
        "import numpy as np\n",
        "import networkx as nx"
      ]
    },
    {
      "cell_type": "code",
      "source": [
        "torch_geometric.__version__"
      ],
      "metadata": {
        "id": "wl0w5_BeG6Jv"
      },
      "execution_count": null,
      "outputs": []
    },
    {
      "cell_type": "code",
      "source": [
        "# Load the Tox21 dataset\n",
        "path = 'data/ZINC'\n",
        "dataset = ZINC(path)\n",
        "\n",
        "# Shuffle and split\n",
        "dataset = dataset.shuffle()\n",
        "train_dataset = dataset[:int(len(dataset)*0.8)]\n",
        "val_dataset   = dataset[int(len(dataset)*0.8):int(len(dataset)*0.9)]\n",
        "test_dataset  = dataset[int(len(dataset)*0.9):]\n",
        "\n",
        "train_loader = DataLoader(train_dataset, batch_size=32, shuffle=True)\n",
        "val_loader   = DataLoader(val_dataset, batch_size=32)\n",
        "test_loader  = DataLoader(test_dataset, batch_size=32)"
      ],
      "metadata": {
        "id": "FaTXYBHt_3KR"
      },
      "execution_count": null,
      "outputs": []
    },
    {
      "cell_type": "code",
      "source": [
        "data.x, data.edge_index"
      ],
      "metadata": {
        "id": "2xuSa6OmD7VZ"
      },
      "execution_count": null,
      "outputs": []
    },
    {
      "cell_type": "code",
      "source": [
        "data.pos_edge_index"
      ],
      "metadata": {
        "id": "W0mMRWRyGO19"
      },
      "execution_count": null,
      "outputs": []
    },
    {
      "cell_type": "code",
      "source": [
        "generator.kl_loss()"
      ],
      "metadata": {
        "id": "i3drxT5HMkpE"
      },
      "execution_count": null,
      "outputs": []
    },
    {
      "cell_type": "code",
      "source": [
        "# Load ZINC for graph generation\n",
        "gen_dataset = ZINC('data/ZINC', subset=True)\n",
        "gen_loader = DataLoader(gen_dataset, batch_size=64, shuffle=True)\n",
        "device = torch.device('cuda' if torch.cuda.is_available() else 'cpu')\n",
        "\n",
        "# Encoder definition\n",
        "class GCNEncoder(torch.nn.Module):\n",
        "    def __init__(self, in_feats, hidden_dim):\n",
        "        super().__init__()\n",
        "        self.conv1 = GCNConv(in_feats, hidden_dim)\n",
        "        self.conv2 = GCNConv(hidden_dim, hidden_dim)\n",
        "        self.conv_mu = GCNConv(hidden_dim, hidden_dim)\n",
        "        self.conv_logvar = GCNConv(hidden_dim, hidden_dim)\n",
        "    def forward(self, x, edge_index):\n",
        "        x = F.relu(self.conv1(x, edge_index))\n",
        "        x = F.relu(self.conv2(x, edge_index))\n",
        "        return self.conv_mu(x, edge_index), self.conv_logvar(x, edge_index)\n",
        "\n",
        "# Instantiate VGAE\n",
        "generator = VGAE(GCNEncoder(gen_dataset.num_features, 64)).to(device)\n",
        "opt_gen = torch.optim.Adam(generator.parameters(), lr=1e-3)\n",
        "warmup_epochs = 10  # epochs over which to anneal KL weight from 0 to 1\n",
        "\n",
        "# Training loop for VGAE (adjacency reconstruction)\n",
        "for epoch in range(1, 41):\n",
        "    generator.train(); total_loss = 0\n",
        "    for data in gen_loader:\n",
        "        data = data.to(device)\n",
        "        data.x = data.x.float()\n",
        "        opt_gen.zero_grad()\n",
        "        z = generator.encode(data.x, data.edge_index)\n",
        "\n",
        "        recon_loss = generator.recon_loss(z, data.edge_index)\n",
        "        kl_loss = generator.kl_loss()\n",
        "        beta = min(1.0, epoch / warmup_epochs)\n",
        "        loss = recon_loss + beta * kl_loss\n",
        "        loss.backward(); opt_gen.step()\n",
        "        total_loss += loss.item()\n",
        "    print(f\"VGAE Epoch {epoch:02d} | Loss: {total_loss/len(gen_loader):.4f}\")\n",
        "\n",
        "# Sampling new graphs\n",
        "generator.eval()\n",
        "with torch.no_grad():\n",
        "    # Sample latent vectors from the prior\n",
        "    num_nodes = 100\n",
        "    hidden_dim = generator.encoder.conv1.out_channels\n",
        "    z_sample = torch.randn((num_nodes, hidden_dim), device=device)\n",
        "\n",
        "    # Construct a fully-connected edge index for decoding\n",
        "    row = torch.arange(num_nodes, device=device).unsqueeze(1).repeat(1, num_nodes).view(-1)\n",
        "    col = torch.arange(num_nodes, device=device).unsqueeze(0).repeat(num_nodes, 1).view(-1)\n",
        "    full_edge_index = torch.stack([row, col], dim=0)\n",
        "\n",
        "    # Decode edge probabilities for all possible node pairs\n",
        "    edge_probs = generator.decoder(z_sample, full_edge_index, sigmoid=True)\n",
        "\n",
        "    # Threshold to select likely edges\n",
        "    threshold = 0.5\n",
        "    mask = edge_probs > threshold\n",
        "    sampled_edge_index = full_edge_index[:, mask]\n",
        "\n",
        "    print(f\"Sampled graph with {sampled_edge_index.size(1)} edges (threshold={threshold})\")\n",
        "    # (Further processing to convert sampled_edge_index into a valid molecule would follow)\n",
        "\n",
        "# G = nx.from_numpy_matrix(adj.cpu().numpy())\n",
        "# # Attempt to convert networkx to SMILES (placeholder)\n",
        "# smiles = Chem.MolToSmiles(Chem.RWMol())\n",
        "# print(\"Sampled SMILES:\", smiles)"
      ],
      "metadata": {
        "id": "LSt-QeFOCok_"
      },
      "execution_count": null,
      "outputs": []
    },
    {
      "cell_type": "code",
      "source": [
        "??generator.encode"
      ],
      "metadata": {
        "id": "L4YkNdjDEzoO"
      },
      "execution_count": null,
      "outputs": []
    },
    {
      "cell_type": "code",
      "source": [
        "??generator.recon_loss"
      ],
      "metadata": {
        "id": "5Nbk1g32FzM7"
      },
      "execution_count": null,
      "outputs": []
    },
    {
      "cell_type": "code",
      "source": [
        "??generator.decoder"
      ],
      "metadata": {
        "id": "_Wyzr8DOF1k5"
      },
      "execution_count": null,
      "outputs": []
    },
    {
      "cell_type": "code",
      "source": [
        "class GIN(torch.nn.Module):\n",
        "    def __init__(self, num_layers, hidden_dim, num_tasks):\n",
        "        super(GIN, self).__init__()\n",
        "        self.convs = torch.nn.ModuleList()\n",
        "        self.bns   = torch.nn.ModuleList()\n",
        "\n",
        "        for i in range(num_layers):\n",
        "            nn_lin = torch.nn.Sequential(\n",
        "                torch.nn.Linear(hidden_dim if i>0 else dataset.num_features, hidden_dim),\n",
        "                torch.nn.ReLU(),\n",
        "                torch.nn.Linear(hidden_dim, hidden_dim)\n",
        "            )\n",
        "            conv = GINConv(nn_lin)\n",
        "            self.convs.append(conv)\n",
        "            self.bns.append(torch.nn.BatchNorm1d(hidden_dim))\n",
        "\n",
        "        self.linear = torch.nn.Linear(hidden_dim, num_tasks)\n",
        "\n",
        "    def forward(self, x, edge_index, batch):\n",
        "        # x: node features, edge_index: graph connectivity, batch: batch vector\n",
        "        for conv, bn in zip(self.convs, self.bns):\n",
        "            x = conv(x, edge_index)\n",
        "            x = bn(x)\n",
        "            x = F.relu(x)\n",
        "\n",
        "        # Global pooling\n",
        "        x = global_add_pool(x, batch)\n",
        "        return self.linear(x)\n",
        "\n",
        "# Instantiate model\n",
        "device = torch.device('cuda' if torch.cuda.is_available() else 'cpu')\n",
        "model = GIN(num_layers=5, hidden_dim=64, num_tasks=dataset.num_tasks).to(device)\n",
        "optimizer = torch.optim.Adam(model.parameters(), lr=0.001)"
      ],
      "metadata": {
        "id": "suRw4MWw_5O-"
      },
      "execution_count": null,
      "outputs": []
    },
    {
      "cell_type": "code",
      "source": [],
      "metadata": {
        "id": "2opLxSkrCFum"
      },
      "execution_count": null,
      "outputs": []
    },
    {
      "cell_type": "code",
      "source": [
        "# Binary Cross-Entropy with missing label masking\n",
        "def train():\n",
        "    model.train()\n",
        "    total_loss = 0\n",
        "    for data in train_loader:\n",
        "        data = data.to(device)\n",
        "        optimizer.zero_grad()\n",
        "        out = model(data.x, data.edge_index, data.batch)\n",
        "        # Mask invalid labels (-1)\n",
        "        mask = data.y == data.y\n",
        "        loss = F.binary_cross_entropy_with_logits(out[mask], data.y[mask].to(torch.float))\n",
        "        loss.backward()\n",
        "        optimizer.step()\n",
        "        total_loss += loss.item() * data.num_graphs\n",
        "    return total_loss / len(train_dataset)\n",
        "\n",
        "# Validation\n",
        "def evaluate(loader):\n",
        "    model.eval()\n",
        "    y_true, y_pred = [], []\n",
        "    with torch.no_grad():\n",
        "        for data in loader:\n",
        "            data = data.to(device)\n",
        "            out = model(data.x, data.edge_index, data.batch)\n",
        "            y_true.append(data.y.cpu())\n",
        "            y_pred.append(torch.sigmoid(out).cpu())\n",
        "    y_true = torch.cat(y_true, dim=0)\n",
        "    y_pred = torch.cat(y_pred, dim=0)\n",
        "    # Compute ROC-AUC per task\n",
        "    from sklearn.metrics import roc_auc_score\n",
        "    scores = []\n",
        "    for i in range(dataset.num_tasks):\n",
        "        mask = ~torch.isnan(y_true[:, i])\n",
        "        if mask.sum() > 0:\n",
        "            scores.append(roc_auc_score(y_true[mask, i], y_pred[mask, i]))\n",
        "    return np.mean(scores)"
      ],
      "metadata": {
        "id": "1b5nKEff_8UG"
      },
      "execution_count": null,
      "outputs": []
    },
    {
      "cell_type": "code",
      "source": [
        "ZINC."
      ],
      "metadata": {
        "id": "741zNdu7CIqB"
      },
      "execution_count": null,
      "outputs": []
    },
    {
      "cell_type": "code",
      "source": [
        "# Run training\n",
        "for epoch in range(1, 31):\n",
        "    loss = train()\n",
        "    val_auc = evaluate(val_loader)\n",
        "    print(f'Epoch: {epoch:02d}, Loss: {loss:.4f}, Val AUC: {val_auc:.4f}')"
      ],
      "metadata": {
        "id": "Fl-EHqGy_-FH"
      },
      "execution_count": null,
      "outputs": []
    },
    {
      "cell_type": "code",
      "source": [
        "test_auc = evaluate(test_loader)\n",
        "print(f'Test ROC-AUC: {test_auc:.4f}')"
      ],
      "metadata": {
        "id": "V_jiIzC2__BH"
      },
      "execution_count": null,
      "outputs": []
    }
  ]
}